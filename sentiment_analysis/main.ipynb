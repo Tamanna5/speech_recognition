{
 "cells": [
  {
   "cell_type": "code",
   "execution_count": 19,
   "metadata": {},
   "outputs": [
    {
     "name": "stdout",
     "output_type": "stream",
     "text": [
      "Requirement already satisfied: yt-dlp in /opt/anaconda3/lib/python3.12/site-packages (2025.6.9)\n",
      "Requirement already satisfied: requests in /opt/anaconda3/lib/python3.12/site-packages (2.32.4)\n",
      "Requirement already satisfied: charset_normalizer<4,>=2 in /opt/anaconda3/lib/python3.12/site-packages (from requests) (2.0.4)\n",
      "Requirement already satisfied: idna<4,>=2.5 in /opt/anaconda3/lib/python3.12/site-packages (from requests) (3.7)\n",
      "Requirement already satisfied: urllib3<3,>=1.21.1 in /opt/anaconda3/lib/python3.12/site-packages (from requests) (2.2.2)\n",
      "Requirement already satisfied: certifi>=2017.4.17 in /opt/anaconda3/lib/python3.12/site-packages (from requests) (2024.8.30)\n",
      "\n",
      "\u001b[1m[\u001b[0m\u001b[34;49mnotice\u001b[0m\u001b[1;39;49m]\u001b[0m\u001b[39;49m A new release of pip is available: \u001b[0m\u001b[31;49m25.0.1\u001b[0m\u001b[39;49m -> \u001b[0m\u001b[32;49m25.1.1\u001b[0m\n",
      "\u001b[1m[\u001b[0m\u001b[34;49mnotice\u001b[0m\u001b[1;39;49m]\u001b[0m\u001b[39;49m To update, run: \u001b[0m\u001b[32;49mpip install --upgrade pip\u001b[0m\n"
     ]
    }
   ],
   "source": [
    "# Cell 1: Install required libraries\n",
    "!pip install yt-dlp requests"
   ]
  },
  {
   "cell_type": "code",
   "execution_count": 20,
   "metadata": {},
   "outputs": [],
   "source": [
    "# Cell 2: Set up AssemblyAI API Key\n",
    "API_KEY_ASSEMBLYAI = \"YOUR_API_KEY\""
   ]
  },
  {
   "cell_type": "code",
   "execution_count": 21,
   "metadata": {},
   "outputs": [],
   "source": [
    "# Cell 3: Imports\n",
    "import os\n",
    "import json\n",
    "import time\n",
    "import requests\n",
    "import yt_dlp"
   ]
  },
  {
   "cell_type": "code",
   "execution_count": 22,
   "metadata": {},
   "outputs": [],
   "source": [
    "# Cell 4: AssemblyAI Config\n",
    "UPLOAD_ENDPOINT = 'https://api.assemblyai.com/v2/upload'\n",
    "TRANSCRIPT_ENDPOINT = 'https://api.assemblyai.com/v2/transcript'\n",
    "HEADERS_AUTH_ONLY = {'authorization': API_KEY_ASSEMBLYAI}\n",
    "HEADERS_JSON = {\n",
    "    \"authorization\": API_KEY_ASSEMBLYAI,\n",
    "    \"content-type\": \"application/json\"\n",
    "}\n",
    "CHUNK_SIZE = 5_242_880  # 5MB"
   ]
  },
  {
   "cell_type": "code",
   "execution_count": 23,
   "metadata": {},
   "outputs": [],
   "source": [
    "# Cell 5: YouTube audio downloader\n",
    "def download_audio(url, output_dir=\"downloads\"):\n",
    "    os.makedirs(output_dir, exist_ok=True)\n",
    "    ydl_opts = {\n",
    "        'format': 'bestaudio/best',\n",
    "        'outtmpl': os.path.join(output_dir, '%(title).200s.%(ext)s'),\n",
    "        'quiet': True,\n",
    "        'no_warnings': True,\n",
    "        'postprocessors': [{\n",
    "            'key': 'FFmpegExtractAudio',\n",
    "            'preferredcodec': 'mp3',\n",
    "            'preferredquality': '192',\n",
    "        }],\n",
    "    }\n",
    "    try:\n",
    "        with yt_dlp.YoutubeDL(ydl_opts) as ydl:\n",
    "            info = ydl.extract_info(url, download=True)\n",
    "            filename = ydl.prepare_filename(info)\n",
    "            filename = os.path.splitext(filename)[0] + \".mp3\"\n",
    "            title = info.get('title', 'audio')\n",
    "            return filename, title\n",
    "    except Exception as e:\n",
    "        print(f\"Error downloading audio: {str(e)}\")\n",
    "        return None, None\n"
   ]
  },
  {
   "cell_type": "code",
   "execution_count": 24,
   "metadata": {},
   "outputs": [],
   "source": [
    "# Cell 6: Upload audio file\n",
    "def upload(filename):\n",
    "    def read_file(filename):\n",
    "        with open(filename, 'rb') as f:\n",
    "            while True:\n",
    "                data = f.read(CHUNK_SIZE)\n",
    "                if not data:\n",
    "                    break\n",
    "                yield data\n",
    "    response = requests.post(UPLOAD_ENDPOINT, headers=HEADERS_AUTH_ONLY, data=read_file(filename))\n",
    "    return response.json()['upload_url']"
   ]
  },
  {
   "cell_type": "code",
   "execution_count": 25,
   "metadata": {},
   "outputs": [],
   "source": [
    "# Cell 7: Transcribe\n",
    "def transcribe(audio_url, sentiment_analysis=True):\n",
    "    request_body = {\n",
    "        'audio_url': audio_url,\n",
    "        'sentiment_analysis': sentiment_analysis\n",
    "    }\n",
    "    response = requests.post(TRANSCRIPT_ENDPOINT, json=request_body, headers=HEADERS_JSON)\n",
    "    return response.json()['id']"
   ]
  },
  {
   "cell_type": "code",
   "execution_count": 26,
   "metadata": {},
   "outputs": [],
   "source": [
    "# Cell 8: Poll\n",
    "def poll(transcript_id):\n",
    "    polling_endpoint = f\"{TRANSCRIPT_ENDPOINT}/{transcript_id}\"\n",
    "    while True:\n",
    "        response = requests.get(polling_endpoint, headers=HEADERS_JSON)\n",
    "        data = response.json()\n",
    "        if data['status'] == 'completed':\n",
    "            return data, None\n",
    "        elif data['status'] == 'error':\n",
    "            return None, data['error']\n",
    "        print(\"Waiting 30 seconds...\")\n",
    "        time.sleep(30)"
   ]
  },
  {
   "cell_type": "code",
   "execution_count": 27,
   "metadata": {},
   "outputs": [],
   "source": [
    "# Cell 9: Save transcript and sentiment\n",
    "def save_transcript(data, title):\n",
    "    os.makedirs(\"data\", exist_ok=True)\n",
    "    base = os.path.join(\"data\", title.replace(\" \", \"_\"))\n",
    "    \n",
    "    try:\n",
    "        with open(base + \".txt\", \"w\") as f:\n",
    "            f.write(data[\"text\"])\n",
    "        if \"sentiment_analysis_results\" in data:\n",
    "            with open(base + \"_sentiments.json\", \"w\") as f:\n",
    "                json.dump(data[\"sentiment_analysis_results\"], f, indent=4)\n",
    "        print(\"Transcription saved.\")\n",
    "    except Exception as e:\n",
    "        print(\"Failed to save transcript:\", e)"
   ]
  },
  {
   "cell_type": "code",
   "execution_count": 28,
   "metadata": {},
   "outputs": [],
   "source": [
    "# Cell 10: Analyze sentiments\n",
    "def analyze_sentiments(title):\n",
    "    path = os.path.join(\"data\", title.replace(\" \", \"_\") + \"_sentiments.json\")\n",
    "    try:\n",
    "        with open(path, \"r\") as f:\n",
    "            data = json.load(f)\n",
    "        pos = [x[\"text\"] for x in data if x[\"sentiment\"] == \"POSITIVE\"]\n",
    "        neg = [x[\"text\"] for x in data if x[\"sentiment\"] == \"NEGATIVE\"]\n",
    "        neu = [x[\"text\"] for x in data if x[\"sentiment\"] == \"NEUTRAL\"]\n",
    "        \n",
    "        print(\"\\nSentiment Summary\")\n",
    "        print(\"------------------\")\n",
    "        print(\"Positive:\", len(pos))\n",
    "        print(\"Negative:\", len(neg))\n",
    "        print(\"Neutral :\", len(neu))\n",
    "\n",
    "        if pos: print(\"\\nPositive example:\", pos[0])\n",
    "        if neg: print(\"\\nNegative example:\", neg[0])\n",
    "    except Exception as e:\n",
    "        print(\"Error reading sentiments:\", e)"
   ]
  },
  {
   "cell_type": "code",
   "execution_count": 30,
   "metadata": {},
   "outputs": [],
   "source": [
    "# Cell 11: Full workflow\n",
    "def process_youtube_video(url):\n",
    "    audio_file, title = download_audio(url)\n",
    "    if not audio_file:\n",
    "        print(\"Failed to download.\")\n",
    "        return\n",
    "    \n",
    "    print(\"Uploading to AssemblyAI...\")\n",
    "    upload_url = upload(audio_file)\n",
    "\n",
    "    print(\"Transcribing...\")\n",
    "    transcript_id = transcribe(upload_url, sentiment_analysis=True)\n",
    "    data, error = poll(transcript_id)\n",
    "\n",
    "    if error:\n",
    "        print(\"Transcription Error:\", error)\n",
    "        return\n",
    "\n",
    "    save_transcript(data, title)\n",
    "    analyze_sentiments(title)"
   ]
  },
  {
   "cell_type": "code",
   "execution_count": 31,
   "metadata": {},
   "outputs": [
    {
     "name": "stdout",
     "output_type": "stream",
     "text": [
      "Uploading to AssemblyAI...                                              \n",
      "Transcribing...\n",
      "Waiting 30 seconds...\n",
      "Transcription saved.\n",
      "\n",
      "Sentiment Summary\n",
      "------------------\n",
      "Positive: 10\n",
      "Negative: 2\n",
      "Neutral : 42\n",
      "\n",
      "Positive example: I am happy to announce new series on machine learning with Python.\n",
      "\n",
      "Negative example: Similarly, if I asked you to search through millions of records, then that search operation is extremely difficult for humans, whereas machines can do it in a matter of nanosecond.\n"
     ]
    }
   ],
   "source": [
    "# Cell 12: Run\n",
    "video_url = input(\"Enter a YouTube video URL: \")\n",
    "process_youtube_video(video_url)\n"
   ]
  },
  {
   "cell_type": "code",
   "execution_count": null,
   "metadata": {},
   "outputs": [],
   "source": []
  }
 ],
 "metadata": {
  "kernelspec": {
   "display_name": "base",
   "language": "python",
   "name": "python3"
  },
  "language_info": {
   "codemirror_mode": {
    "name": "ipython",
    "version": 3
   },
   "file_extension": ".py",
   "mimetype": "text/x-python",
   "name": "python",
   "nbconvert_exporter": "python",
   "pygments_lexer": "ipython3",
   "version": "3.12.4"
  }
 },
 "nbformat": 4,
 "nbformat_minor": 2
}
